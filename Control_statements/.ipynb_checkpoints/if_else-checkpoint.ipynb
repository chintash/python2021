{
 "cells": [
  {
   "cell_type": "markdown",
   "id": "infrared-outdoors",
   "metadata": {},
   "source": [
    "# Conditional Statements"
   ]
  },
  {
   "cell_type": "markdown",
   "id": "interim-investment",
   "metadata": {},
   "source": [
    "## If....else statements"
   ]
  },
  {
   "cell_type": "code",
   "execution_count": 6,
   "id": "decreased-vinyl",
   "metadata": {},
   "outputs": [
    {
     "name": "stdout",
     "output_type": "stream",
     "text": [
      "True\n"
     ]
    }
   ],
   "source": [
    "# Problem Statement : Print True if value is greater than or equal to 10 or else print False\n",
    "\n",
    "val = 10\n",
    "\n",
    "if val > 10 or val == 10:\n",
    "    print(True)\n",
    "else:\n",
    "    print(False)"
   ]
  },
  {
   "cell_type": "code",
   "execution_count": null,
   "id": "effective-malpractice",
   "metadata": {},
   "outputs": [],
   "source": [
    "# Syntax : \n",
    "'''\n",
    "if [condition1] and/or [condition2] and/or [condition3]....:\n",
    "    executional statements\n",
    "else:\n",
    "    executional statements\n",
    "\n",
    "'''"
   ]
  },
  {
   "cell_type": "code",
   "execution_count": 3,
   "id": "starting-trace",
   "metadata": {},
   "outputs": [
    {
     "data": {
      "text/plain": [
       "False"
      ]
     },
     "execution_count": 3,
     "metadata": {},
     "output_type": "execute_result"
    }
   ],
   "source": [
    "val > 10 and val == 10"
   ]
  },
  {
   "cell_type": "code",
   "execution_count": 4,
   "id": "caring-denial",
   "metadata": {},
   "outputs": [],
   "source": [
    "# False and True  = False\n",
    "# False and False = False\n",
    "# True and False  = False\n",
    "# True and True   = True\n",
    "\n",
    "\n",
    "# False or True = True\n",
    "# False or False = False\n",
    "# True  or False = True\n",
    "# True or True  = True"
   ]
  },
  {
   "cell_type": "code",
   "execution_count": 13,
   "id": "responsible-strand",
   "metadata": {},
   "outputs": [
    {
     "name": "stdout",
     "output_type": "stream",
     "text": [
      "Science is awesome\n"
     ]
    }
   ],
   "source": [
    "# Probelm statement : If subject is Science print 'Science is awesome' , if subject is Maths then print 'Maths is boring'\n",
    "# and if subject is History then print 'History is old' and print 'Haven't heard of it' for any other subject\n",
    "\n",
    "subject = 'Science'\n",
    "\n",
    "if subject == 'Science':\n",
    "    print('Science is awesome')\n",
    "\n",
    "elif subject == 'Maths':  # else if\n",
    "    print('Maths is boring')\n",
    "\n",
    "elif subject == 'History':\n",
    "    print('History is old')\n",
    "\n",
    "else:\n",
    "    print(\"Haven't heard of it\")\n",
    "\n"
   ]
  },
  {
   "cell_type": "code",
   "execution_count": 14,
   "id": "logical-feeling",
   "metadata": {},
   "outputs": [
    {
     "name": "stdout",
     "output_type": "stream",
     "text": [
      "Science is awesome\n"
     ]
    }
   ],
   "source": [
    "if subject == 'Science':\n",
    "    print('Science is awesome')\n",
    "else:\n",
    "    if subject == 'Maths':  # else if\n",
    "        print('Maths is boring')\n",
    "    else:\n",
    "        if subject == 'History':\n",
    "            print('History is old')\n",
    "        else:\n",
    "            print(\"Haven't heard of it\")\n"
   ]
  }
 ],
 "metadata": {
  "kernelspec": {
   "display_name": "Python 3",
   "language": "python",
   "name": "python3"
  },
  "language_info": {
   "codemirror_mode": {
    "name": "ipython",
    "version": 3
   },
   "file_extension": ".py",
   "mimetype": "text/x-python",
   "name": "python",
   "nbconvert_exporter": "python",
   "pygments_lexer": "ipython3",
   "version": "3.8.5"
  }
 },
 "nbformat": 4,
 "nbformat_minor": 5
}
