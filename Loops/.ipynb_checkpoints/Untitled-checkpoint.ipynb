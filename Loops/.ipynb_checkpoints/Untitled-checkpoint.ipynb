{
 "cells": [
  {
   "cell_type": "markdown",
   "id": "successful-maria",
   "metadata": {},
   "source": [
    "# For Loops"
   ]
  },
  {
   "cell_type": "code",
   "execution_count": 1,
   "id": "eastern-exception",
   "metadata": {},
   "outputs": [],
   "source": [
    "# Syntax\n",
    "\n",
    "# for iterator in object_to_be_iterated_upon:\n",
    "#     execution_statements\n",
    "    \n",
    "    "
   ]
  },
  {
   "cell_type": "code",
   "execution_count": 47,
   "id": "accepted-biology",
   "metadata": {},
   "outputs": [
    {
     "name": "stdout",
     "output_type": "stream",
     "text": [
      "1\n",
      "2\n",
      "3\n",
      "4\n",
      "5\n",
      " --- Using Index Numbers --- \n",
      "1\n",
      "2\n",
      "3\n",
      "4\n",
      "5\n"
     ]
    }
   ],
   "source": [
    "list1 = [1, 2, 3, 4, 5]\n",
    "#       [0, 1, 2, 3, 4]\n",
    "\n",
    "for i in list1:\n",
    "    print(i)\n",
    "    \n",
    "print(\" --- Using Index Numbers --- \")\n",
    "for i in range(len(list1)):\n",
    "    print(list1[i])"
   ]
  },
  {
   "cell_type": "code",
   "execution_count": 7,
   "id": "unusual-cookbook",
   "metadata": {},
   "outputs": [
    {
     "name": "stdout",
     "output_type": "stream",
     "text": [
      "-- Tuple Values  --\n",
      "1\n",
      "2\n",
      "3\n",
      "4\n",
      "5\n"
     ]
    }
   ],
   "source": [
    "print(\"-- Tuple Values  --\")\n",
    "tuple1 = 1, 2, 3, 4, 5\n",
    "for i in tuple1:\n",
    "    print(i)\n",
    "\n",
    "print(\" --- Using Index Numbers --- \")\n",
    "for i in range(len(string1)):\n",
    "    print(string1[i])        "
   ]
  },
  {
   "cell_type": "code",
   "execution_count": 54,
   "id": "frozen-theory",
   "metadata": {},
   "outputs": [
    {
     "name": "stdout",
     "output_type": "stream",
     "text": [
      "S\n",
      "h\n",
      "i\n",
      "v\n",
      "a\n",
      " --- Using Index Numbers --- \n",
      "S\n",
      "h\n",
      "i\n",
      "v\n",
      "a\n",
      " ---- Reason why direct method is not used everytime ----\n",
      "i\n",
      "v\n",
      "a\n",
      " --- Using Index Numbers --- \n",
      "i\n",
      "v\n",
      "a\n"
     ]
    }
   ],
   "source": [
    "string1 = \"Shiva\"\n",
    "\n",
    "for i in string1:\n",
    "    print(i)\n",
    "    \n",
    "print(\" --- Using Index Numbers --- \")\n",
    "for i in range(len(string1)):\n",
    "    print(string1[i])\n",
    "    \n",
    "    \n",
    "print(\" ---- Reason why direct method is not used everytime ----\")\n",
    "\n",
    "for i in string1:\n",
    "    if i != \"S\" and i!=\"h\":\n",
    "        print(i)\n",
    "    \n",
    "print(\" --- Using Index Numbers --- \")\n",
    "for i in range(2, len(string1)):\n",
    "    print(string1[i])    \n"
   ]
  },
  {
   "cell_type": "code",
   "execution_count": 33,
   "id": "joint-lingerie",
   "metadata": {},
   "outputs": [
    {
     "name": "stdout",
     "output_type": "stream",
     "text": [
      "dict_items([('key1', 'value1'), ('key2', 'value2'), ('key3', 'value3')])\n",
      "('key1', 'value1')\n",
      "('key2', 'value2')\n",
      "('key3', 'value3')\n",
      " ---  With Tuple Unpacking --- \n",
      "key1 value1\n",
      "key2 value2\n",
      "key3 value3\n",
      " ---  Without Tuple Unpacking --- \n",
      "key1 value1\n",
      "key2 value2\n",
      "key3 value3\n"
     ]
    }
   ],
   "source": [
    "dict1 = {\"key1\" :  \"value1\", \"key2\" :  \"value2\", \"key3\" :  \"value3\"}\n",
    "\n",
    "print(dict1.items())\n",
    "\n",
    "for key in dict1.items():\n",
    "    print(key)\n",
    "\n",
    "print(\" ---  With Tuple Unpacking --- \")\n",
    "    \n",
    "for key, value in dict1.items():\n",
    "    print(key, value)\n",
    "    \n",
    "print(\" ---  Without Tuple Unpacking --- \")\n",
    "for key in dict1:\n",
    "    print(key, dict1[key])"
   ]
  },
  {
   "cell_type": "markdown",
   "id": "supposed-circle",
   "metadata": {},
   "source": [
    "# Syntax : \n",
    "\n",
    "## range(start_position, end_podititon, iteration_count)"
   ]
  },
  {
   "cell_type": "code",
   "execution_count": 38,
   "id": "reported-forum",
   "metadata": {},
   "outputs": [
    {
     "name": "stdout",
     "output_type": "stream",
     "text": [
      "0\n",
      "1\n",
      "2\n",
      "3\n",
      "4\n",
      "5\n",
      "6\n",
      "7\n",
      "8\n",
      "9\n",
      "10\n",
      "11\n",
      "12\n",
      "13\n",
      "14\n",
      "15\n",
      "16\n",
      "17\n",
      "18\n",
      "19\n"
     ]
    }
   ],
   "source": [
    "# Range function \n",
    "list1 = [1, 2, 3, 4, 5, 6, 7, 8, 9, 10]\n",
    "\n",
    "for i in range(20):\n",
    "    print(i)"
   ]
  },
  {
   "cell_type": "code",
   "execution_count": 39,
   "id": "attached-berry",
   "metadata": {},
   "outputs": [
    {
     "name": "stdout",
     "output_type": "stream",
     "text": [
      "5\n",
      "6\n",
      "7\n",
      "8\n",
      "9\n",
      "10\n",
      "11\n",
      "12\n",
      "13\n",
      "14\n",
      "15\n",
      "16\n",
      "17\n",
      "18\n",
      "19\n"
     ]
    }
   ],
   "source": [
    "for i in range(5, 20):\n",
    "    print(i)"
   ]
  },
  {
   "cell_type": "code",
   "execution_count": 43,
   "id": "immediate-soccer",
   "metadata": {},
   "outputs": [
    {
     "name": "stdout",
     "output_type": "stream",
     "text": [
      "5\n",
      "7\n",
      "9\n",
      "11\n",
      "13\n",
      "15\n",
      "17\n",
      "19\n",
      "21\n",
      "23\n",
      "25\n",
      "27\n",
      "29\n",
      "31\n",
      "33\n",
      "35\n",
      "37\n",
      "39\n"
     ]
    }
   ],
   "source": [
    "for i in range(5, 40, 2):\n",
    "    print(i)"
   ]
  },
  {
   "cell_type": "markdown",
   "id": "renewable-hopkins",
   "metadata": {},
   "source": [
    "# Tuple Unpacking"
   ]
  },
  {
   "cell_type": "code",
   "execution_count": 26,
   "id": "identified-hypothetical",
   "metadata": {},
   "outputs": [
    {
     "ename": "ValueError",
     "evalue": "too many values to unpack (expected 2)",
     "output_type": "error",
     "traceback": [
      "\u001b[0;31m---------------------------------------------------------------------------\u001b[0m",
      "\u001b[0;31mValueError\u001b[0m                                Traceback (most recent call last)",
      "\u001b[0;32m<ipython-input-26-c9ea77d24d97>\u001b[0m in \u001b[0;36m<module>\u001b[0;34m\u001b[0m\n\u001b[1;32m      3\u001b[0m \u001b[0ma\u001b[0m\u001b[0;34m,\u001b[0m \u001b[0m_\u001b[0m \u001b[0;34m=\u001b[0m \u001b[0;34m(\u001b[0m\u001b[0;36m1\u001b[0m\u001b[0;34m,\u001b[0m \u001b[0;36m2\u001b[0m\u001b[0;34m)\u001b[0m\u001b[0;34m\u001b[0m\u001b[0;34m\u001b[0m\u001b[0m\n\u001b[1;32m      4\u001b[0m \u001b[0;34m\u001b[0m\u001b[0m\n\u001b[0;32m----> 5\u001b[0;31m \u001b[0ma\u001b[0m \u001b[0;34m,\u001b[0m \u001b[0mb\u001b[0m \u001b[0;34m=\u001b[0m \u001b[0;34m(\u001b[0m\u001b[0;36m1\u001b[0m\u001b[0;34m,\u001b[0m \u001b[0;36m2\u001b[0m\u001b[0;34m,\u001b[0m \u001b[0;36m3\u001b[0m\u001b[0;34m)\u001b[0m  \u001b[0;31m# Output : Error\u001b[0m\u001b[0;34m\u001b[0m\u001b[0;34m\u001b[0m\u001b[0m\n\u001b[0m",
      "\u001b[0;31mValueError\u001b[0m: too many values to unpack (expected 2)"
     ]
    }
   ],
   "source": [
    "a, b = (1, 2)    # Output :  a= 1, =2\n",
    "\n",
    "a, _ = (1, 2)\n",
    "\n",
    "a , b = (1, 2, 3)  # Output : Error\n"
   ]
  },
  {
   "cell_type": "markdown",
   "id": "exact-independence",
   "metadata": {},
   "source": [
    "# Execrise : We have 26 alphabets. Take an input from the user, it'll be an integer strictly. \n",
    "\n",
    "# Input  : 3\n",
    "# Output : C\n",
    "\n",
    "# Input  : 16\n",
    "# Output : Q\n",
    "\n",
    "# Input  : 28\n",
    "# Output : B\n",
    "\n",
    "# Input  : 99\n",
    "# Output : V\n"
   ]
  }
 ],
 "metadata": {
  "kernelspec": {
   "display_name": "Python 3",
   "language": "python",
   "name": "python3"
  },
  "language_info": {
   "codemirror_mode": {
    "name": "ipython",
    "version": 3
   },
   "file_extension": ".py",
   "mimetype": "text/x-python",
   "name": "python",
   "nbconvert_exporter": "python",
   "pygments_lexer": "ipython3",
   "version": "3.8.5"
  }
 },
 "nbformat": 4,
 "nbformat_minor": 5
}
