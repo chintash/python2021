{
 "cells": [
  {
   "cell_type": "markdown",
   "metadata": {},
   "source": [
    "# Strings"
   ]
  },
  {
   "cell_type": "markdown",
   "metadata": {},
   "source": [
    "# A string can be initialized using either single quotes or double quotes. Single line strings are initialized using only 1 single or double quotes"
   ]
  },
  {
   "cell_type": "code",
   "execution_count": 1,
   "metadata": {
    "collapsed": true
   },
   "outputs": [],
   "source": [
    "val = 'aman'\n",
    "\n",
    "val = \"aman sjvksj;lvfdlkjdsjkfl';fd;lgskfdfdlkjkjdsj;fdsfkdsfkdsfnjkdsfk'ldsjfljdsf;lkdsljflsdlkghds;gkjlkhfslkglkfdhj;lskfgljsljfj;sdkfj;lkdskf;dsk\"\n"
   ]
  },
  {
   "cell_type": "markdown",
   "metadata": {},
   "source": [
    "# Multi-line strings can be initialised using triple single or double quotes"
   ]
  },
  {
   "cell_type": "code",
   "execution_count": 2,
   "metadata": {
    "collapsed": true
   },
   "outputs": [],
   "source": [
    "val = ''' shjfgkjsfjdshjfks;lfs\n",
    "skvkjdsj;glkskjgdslg\n",
    "sdkjfdskjfldsf\n",
    "sdkfkjdsjflkdsjfldsf\n",
    "\n",
    "sjhflkdsjfkjdslf\n",
    "sjs'''\n",
    "\n",
    "val = \"\"\"skfdsfkldkdfhfgdkvs\n",
    "fskjhvkfskhfd\n",
    "sdkfkjdshkjgjslfdfj\n",
    "sdhlksfjgfsjgjkfsl\"\"\""
   ]
  },
  {
   "cell_type": "markdown",
   "metadata": {},
   "source": [
    "# Strings inside triple quotes can also be used for multi-line commenting purposes. They are also called as Docstrings"
   ]
  },
  {
   "cell_type": "code",
   "execution_count": 5,
   "metadata": {
    "collapsed": true
   },
   "outputs": [],
   "source": [
    "def function(number):\n",
    "    '''\n",
    "    The function returns square of a number\n",
    "    '''\n",
    "    return number**2\n",
    "\n"
   ]
  },
  {
   "cell_type": "markdown",
   "metadata": {},
   "source": [
    "# To get the datatype of a variable we can use the type() function"
   ]
  },
  {
   "cell_type": "code",
   "execution_count": 6,
   "metadata": {},
   "outputs": [
    {
     "data": {
      "text/plain": [
       "(int, str, float)"
      ]
     },
     "execution_count": 6,
     "metadata": {},
     "output_type": "execute_result"
    }
   ],
   "source": [
    "a = 123\n",
    "b = \"aman\"\n",
    "c= 1.23\n",
    "\n",
    "type(a), type(b), type(c)"
   ]
  },
  {
   "cell_type": "markdown",
   "metadata": {},
   "source": [
    "# To get the certain specific part of a string we can use the concept of slicings. For slicing we provide the index numbers in a square bracket\n",
    "# Indexing from left hand side always starts from 0 to n-1, where n is the length of the collection.\n",
    "# Indexing from right hand side always starts from -1 to -n, where n is the length of the collection."
   ]
  },
  {
   "cell_type": "code",
   "execution_count": 10,
   "metadata": {},
   "outputs": [
    {
     "name": "stdout",
     "output_type": "stream",
     "text": [
      "n\n",
      "man \n",
      "i\n",
      "n mis\n"
     ]
    }
   ],
   "source": [
    "a = \"aman mishra\"    #         \n",
    "#    0123456789\n",
    "#    -10-9-8-7-6-5-4-3-2-1\n",
    "\n",
    "print(a[3]) # n\n",
    "print(a[1:5])  #'man '\n",
    "\n",
    "print(a[-5]) # i\n",
    "print(a[-8:-3]) #an mis\n"
   ]
  },
  {
   "cell_type": "code",
   "execution_count": null,
   "metadata": {
    "collapsed": true
   },
   "outputs": [],
   "source": [
    "# There are 2 types of datatype conversion : Implicit and Explicit"
   ]
  },
  {
   "cell_type": "code",
   "execution_count": 18,
   "metadata": {},
   "outputs": [
    {
     "name": "stdout",
     "output_type": "stream",
     "text": [
      "<class 'int'>\n",
      "<class 'str'>\n"
     ]
    }
   ],
   "source": [
    "# Implicit : Where the dataype of a variable chnages dynamically upon the initialization or assignment of a \n",
    "# value to that variable\n",
    "\n",
    "val = 123\n",
    "\n",
    "print(type(val))\n",
    "\n",
    "val = \"aman\"\n",
    "\n",
    "print(type(val))\n"
   ]
  },
  {
   "cell_type": "code",
   "execution_count": 17,
   "metadata": {},
   "outputs": [
    {
     "name": "stdout",
     "output_type": "stream",
     "text": [
      "<class 'str'>\n",
      "<class 'int'>\n"
     ]
    }
   ],
   "source": [
    "# Explicit Conversion : Where we specify a specific function to convert the value to that specific datatype\n",
    "\n",
    "val = \"123\"\n",
    "print(type(val))\n",
    "\n",
    "val  = int(val)\n",
    "print(type(val))\n"
   ]
  },
  {
   "cell_type": "code",
   "execution_count": 20,
   "metadata": {},
   "outputs": [
    {
     "ename": "ValueError",
     "evalue": "invalid literal for int() with base 10: '23.23'",
     "output_type": "error",
     "traceback": [
      "\u001b[0;31m---------------------------------------------------------------------------\u001b[0m",
      "\u001b[0;31mValueError\u001b[0m                                Traceback (most recent call last)",
      "\u001b[0;32m<ipython-input-20-39344ebe7d2a>\u001b[0m in \u001b[0;36m<module>\u001b[0;34m\u001b[0m\n\u001b[1;32m      1\u001b[0m \u001b[0;31m# Exercise :  Why the following code snippet gives an error\u001b[0m\u001b[0;34m\u001b[0m\u001b[0;34m\u001b[0m\u001b[0;34m\u001b[0m\u001b[0m\n\u001b[1;32m      2\u001b[0m \u001b[0ma\u001b[0m \u001b[0;34m=\u001b[0m \u001b[0;34m\"23.23\"\u001b[0m\u001b[0;34m\u001b[0m\u001b[0;34m\u001b[0m\u001b[0m\n\u001b[0;32m----> 3\u001b[0;31m \u001b[0mint\u001b[0m\u001b[0;34m(\u001b[0m\u001b[0ma\u001b[0m\u001b[0;34m)\u001b[0m\u001b[0;34m\u001b[0m\u001b[0;34m\u001b[0m\u001b[0m\n\u001b[0m",
      "\u001b[0;31mValueError\u001b[0m: invalid literal for int() with base 10: '23.23'"
     ]
    }
   ],
   "source": [
    "# Exercise :  Why the following code snippet gives an error\n",
    "a = \"23.23\"\n",
    "int(a)"
   ]
  },
  {
   "cell_type": "code",
   "execution_count": 3,
   "metadata": {},
   "outputs": [
    {
     "data": {
      "text/plain": [
       "'Aman Mishra'"
      ]
     },
     "execution_count": 3,
     "metadata": {},
     "output_type": "execute_result"
    }
   ],
   "source": [
    "name = \"Aman \"\n",
    "lname = \"Mishra\"\n",
    "\n",
    "fullname = name + lname  # string concatenation\n",
    "\n",
    "fullname"
   ]
  },
  {
   "cell_type": "markdown",
   "metadata": {},
   "source": [
    "# String Functions"
   ]
  },
  {
   "cell_type": "code",
   "execution_count": 6,
   "metadata": {},
   "outputs": [
    {
     "data": {
      "text/plain": [
       "5"
      ]
     },
     "execution_count": 6,
     "metadata": {},
     "output_type": "execute_result"
    }
   ],
   "source": [
    "fullname.index(\"Mish\")"
   ]
  },
  {
   "cell_type": "code",
   "execution_count": 7,
   "metadata": {},
   "outputs": [
    {
     "data": {
      "text/plain": [
       "11"
      ]
     },
     "execution_count": 7,
     "metadata": {},
     "output_type": "execute_result"
    }
   ],
   "source": [
    "len(fullname)"
   ]
  }
 ],
 "metadata": {
  "kernelspec": {
   "display_name": "Python 3",
   "language": "python",
   "name": "python3"
  },
  "language_info": {
   "codemirror_mode": {
    "name": "ipython",
    "version": 3
   },
   "file_extension": ".py",
   "mimetype": "text/x-python",
   "name": "python",
   "nbconvert_exporter": "python",
   "pygments_lexer": "ipython3",
   "version": "3.6.1"
  }
 },
 "nbformat": 4,
 "nbformat_minor": 5
}
