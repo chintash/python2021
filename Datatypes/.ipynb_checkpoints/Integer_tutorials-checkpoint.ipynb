{
 "cells": [
  {
   "cell_type": "code",
   "execution_count": 10,
   "id": "applicable-fleet",
   "metadata": {},
   "outputs": [],
   "source": [
    "val1 = 10\n",
    "\n",
    "val2 = 20"
   ]
  },
  {
   "cell_type": "markdown",
   "id": "buried-drain",
   "metadata": {},
   "source": [
    "# Arithmetic Operators"
   ]
  },
  {
   "cell_type": "code",
   "execution_count": 2,
   "id": "imported-integral",
   "metadata": {},
   "outputs": [
    {
     "data": {
      "text/plain": [
       "30"
      ]
     },
     "execution_count": 2,
     "metadata": {},
     "output_type": "execute_result"
    }
   ],
   "source": [
    "val1 + val2"
   ]
  },
  {
   "cell_type": "code",
   "execution_count": 3,
   "id": "fifteen-failing",
   "metadata": {},
   "outputs": [
    {
     "data": {
      "text/plain": [
       "-10"
      ]
     },
     "execution_count": 3,
     "metadata": {},
     "output_type": "execute_result"
    }
   ],
   "source": [
    "val1 - val2"
   ]
  },
  {
   "cell_type": "code",
   "execution_count": 4,
   "id": "linear-attachment",
   "metadata": {},
   "outputs": [
    {
     "data": {
      "text/plain": [
       "200"
      ]
     },
     "execution_count": 4,
     "metadata": {},
     "output_type": "execute_result"
    }
   ],
   "source": [
    "val1 * val2"
   ]
  },
  {
   "cell_type": "code",
   "execution_count": 7,
   "id": "animated-concentration",
   "metadata": {},
   "outputs": [
    {
     "data": {
      "text/plain": [
       "2.0"
      ]
     },
     "execution_count": 7,
     "metadata": {},
     "output_type": "execute_result"
    }
   ],
   "source": [
    "val2 / val1"
   ]
  },
  {
   "cell_type": "code",
   "execution_count": 8,
   "id": "incorporate-invitation",
   "metadata": {},
   "outputs": [
    {
     "data": {
      "text/plain": [
       "2"
      ]
     },
     "execution_count": 8,
     "metadata": {},
     "output_type": "execute_result"
    }
   ],
   "source": [
    "val2 // val1"
   ]
  },
  {
   "cell_type": "code",
   "execution_count": 9,
   "id": "backed-attack",
   "metadata": {},
   "outputs": [
    {
     "data": {
      "text/plain": [
       "10"
      ]
     },
     "execution_count": 9,
     "metadata": {},
     "output_type": "execute_result"
    }
   ],
   "source": [
    "val1 % val2"
   ]
  },
  {
   "cell_type": "code",
   "execution_count": 11,
   "id": "cleared-train",
   "metadata": {},
   "outputs": [
    {
     "data": {
      "text/plain": [
       "8"
      ]
     },
     "execution_count": 11,
     "metadata": {},
     "output_type": "execute_result"
    }
   ],
   "source": [
    "val1 = 2\n",
    "val2 = 3\n",
    "\n",
    "val1 ** val2"
   ]
  },
  {
   "cell_type": "markdown",
   "id": "approximate-oklahoma",
   "metadata": {},
   "source": [
    "# Comparison Operators"
   ]
  },
  {
   "cell_type": "code",
   "execution_count": 13,
   "id": "curious-accordance",
   "metadata": {},
   "outputs": [
    {
     "data": {
      "text/plain": [
       "False"
      ]
     },
     "execution_count": 13,
     "metadata": {},
     "output_type": "execute_result"
    }
   ],
   "source": [
    " val1 > val2  # val1 = 10 and val2 = 20"
   ]
  },
  {
   "cell_type": "code",
   "execution_count": 14,
   "id": "fatty-violence",
   "metadata": {},
   "outputs": [
    {
     "data": {
      "text/plain": [
       "True"
      ]
     },
     "execution_count": 14,
     "metadata": {},
     "output_type": "execute_result"
    }
   ],
   "source": [
    "val1  < val2"
   ]
  },
  {
   "cell_type": "code",
   "execution_count": 15,
   "id": "legislative-favor",
   "metadata": {},
   "outputs": [
    {
     "data": {
      "text/plain": [
       "False"
      ]
     },
     "execution_count": 15,
     "metadata": {},
     "output_type": "execute_result"
    }
   ],
   "source": [
    "val1 == val2"
   ]
  },
  {
   "cell_type": "code",
   "execution_count": 16,
   "id": "graphic-throat",
   "metadata": {},
   "outputs": [
    {
     "data": {
      "text/plain": [
       "False"
      ]
     },
     "execution_count": 16,
     "metadata": {},
     "output_type": "execute_result"
    }
   ],
   "source": [
    "val1 >= val2"
   ]
  },
  {
   "cell_type": "code",
   "execution_count": 17,
   "id": "meaningful-empire",
   "metadata": {},
   "outputs": [
    {
     "data": {
      "text/plain": [
       "True"
      ]
     },
     "execution_count": 17,
     "metadata": {},
     "output_type": "execute_result"
    }
   ],
   "source": [
    "val1 <= val2"
   ]
  },
  {
   "cell_type": "code",
   "execution_count": 18,
   "id": "welsh-davis",
   "metadata": {},
   "outputs": [
    {
     "data": {
      "text/plain": [
       "True"
      ]
     },
     "execution_count": 18,
     "metadata": {},
     "output_type": "execute_result"
    }
   ],
   "source": [
    "val1 != val2"
   ]
  },
  {
   "cell_type": "markdown",
   "id": "anticipated-sunglasses",
   "metadata": {},
   "source": [
    "# Assignment operators"
   ]
  },
  {
   "cell_type": "code",
   "execution_count": 37,
   "id": "directed-trail",
   "metadata": {},
   "outputs": [],
   "source": [
    "val1 = 10\n",
    "val2 = 20"
   ]
  },
  {
   "cell_type": "code",
   "execution_count": 22,
   "id": "focused-traveler",
   "metadata": {},
   "outputs": [
    {
     "data": {
      "text/plain": [
       "50"
      ]
     },
     "execution_count": 22,
     "metadata": {},
     "output_type": "execute_result"
    }
   ],
   "source": [
    "val1 += val2  # val1 = val1 + val2\n",
    "val1"
   ]
  },
  {
   "cell_type": "code",
   "execution_count": 24,
   "id": "looking-employment",
   "metadata": {},
   "outputs": [
    {
     "data": {
      "text/plain": [
       "10"
      ]
     },
     "execution_count": 24,
     "metadata": {},
     "output_type": "execute_result"
    }
   ],
   "source": [
    "val1 -= val2\n",
    "val1"
   ]
  },
  {
   "cell_type": "code",
   "execution_count": 25,
   "id": "realistic-variation",
   "metadata": {},
   "outputs": [
    {
     "data": {
      "text/plain": [
       "200"
      ]
     },
     "execution_count": 25,
     "metadata": {},
     "output_type": "execute_result"
    }
   ],
   "source": [
    "val1 *= val2\n",
    "val1"
   ]
  },
  {
   "cell_type": "code",
   "execution_count": 28,
   "id": "difficult-profession",
   "metadata": {},
   "outputs": [
    {
     "data": {
      "text/plain": [
       "0.5"
      ]
     },
     "execution_count": 28,
     "metadata": {},
     "output_type": "execute_result"
    }
   ],
   "source": [
    "val1 /= val2\n",
    "val1"
   ]
  },
  {
   "cell_type": "code",
   "execution_count": 38,
   "id": "excited-graduate",
   "metadata": {},
   "outputs": [
    {
     "data": {
      "text/plain": [
       "0"
      ]
     },
     "execution_count": 38,
     "metadata": {},
     "output_type": "execute_result"
    }
   ],
   "source": [
    "val1 //= val2  # 0.5//20\n",
    "# val1 = val1 //val2\n",
    "val1"
   ]
  },
  {
   "cell_type": "code",
   "execution_count": 31,
   "id": "adapted-oliver",
   "metadata": {},
   "outputs": [
    {
     "data": {
      "text/plain": [
       "10"
      ]
     },
     "execution_count": 31,
     "metadata": {},
     "output_type": "execute_result"
    }
   ],
   "source": [
    "val1 %= val2\n",
    "val1"
   ]
  },
  {
   "cell_type": "markdown",
   "id": "acoustic-stephen",
   "metadata": {},
   "source": [
    "### Execrise : Verify if there are any differences in performance when we use the following notations : \n",
    "### val1 = val1 + val2\n",
    "### val1 += val2\n",
    "\n",
    "### Functions that we can use with integers"
   ]
  },
  {
   "cell_type": "code",
   "execution_count": null,
   "id": "another-working",
   "metadata": {},
   "outputs": [],
   "source": []
  }
 ],
 "metadata": {
  "kernelspec": {
   "display_name": "Python 3",
   "language": "python",
   "name": "python3"
  },
  "language_info": {
   "codemirror_mode": {
    "name": "ipython",
    "version": 3
   },
   "file_extension": ".py",
   "mimetype": "text/x-python",
   "name": "python",
   "nbconvert_exporter": "python",
   "pygments_lexer": "ipython3",
   "version": "3.8.5"
  }
 },
 "nbformat": 4,
 "nbformat_minor": 5
}
