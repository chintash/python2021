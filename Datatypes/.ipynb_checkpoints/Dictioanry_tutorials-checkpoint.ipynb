{
 "cells": [
  {
   "cell_type": "markdown",
   "id": "organic-patio",
   "metadata": {},
   "source": [
    "# Dictionaries"
   ]
  },
  {
   "cell_type": "code",
   "execution_count": 12,
   "id": "federal-dimension",
   "metadata": {},
   "outputs": [],
   "source": [
    "dict1 = { \"key1\" :  \"value1\", 1 : \"aman\", 2.3 : \"45\"}"
   ]
  },
  {
   "cell_type": "code",
   "execution_count": 4,
   "id": "dated-eligibility",
   "metadata": {},
   "outputs": [
    {
     "data": {
      "text/plain": [
       "dict_keys(['key1', 1, 2.3])"
      ]
     },
     "execution_count": 4,
     "metadata": {},
     "output_type": "execute_result"
    }
   ],
   "source": [
    "dict1.keys()"
   ]
  },
  {
   "cell_type": "code",
   "execution_count": 13,
   "id": "classified-affiliation",
   "metadata": {},
   "outputs": [
    {
     "data": {
      "text/plain": [
       "{'key1': 'value1', 1: 'aman', 2.3: '45'}"
      ]
     },
     "execution_count": 13,
     "metadata": {},
     "output_type": "execute_result"
    }
   ],
   "source": [
    "dict1"
   ]
  },
  {
   "cell_type": "markdown",
   "id": "canadian-exposure",
   "metadata": {},
   "source": [
    "### To add a new key-value pair to an existing dictionary we use the following syntax : \n",
    "### dictionary_name[key] = value"
   ]
  },
  {
   "cell_type": "code",
   "execution_count": 14,
   "id": "positive-toolbox",
   "metadata": {},
   "outputs": [],
   "source": [
    "dict1[\"key2\"] = \"value2\""
   ]
  },
  {
   "cell_type": "code",
   "execution_count": 8,
   "id": "lovely-reception",
   "metadata": {},
   "outputs": [],
   "source": [
    "dict1[456] = True"
   ]
  },
  {
   "cell_type": "code",
   "execution_count": 15,
   "id": "affecting-sudan",
   "metadata": {},
   "outputs": [
    {
     "data": {
      "text/plain": [
       "{'key1': 'value1', 1: 'aman', 2.3: '45', 'key2': 'value2'}"
      ]
     },
     "execution_count": 15,
     "metadata": {},
     "output_type": "execute_result"
    }
   ],
   "source": [
    "dict1"
   ]
  },
  {
   "cell_type": "markdown",
   "id": "framed-london",
   "metadata": {},
   "source": [
    "### To update the value of an existin key-value pair we use the following syntax : \n",
    "### dictionary_name[key] = new_value"
   ]
  },
  {
   "cell_type": "code",
   "execution_count": 10,
   "id": "peripheral-prospect",
   "metadata": {},
   "outputs": [
    {
     "data": {
      "text/plain": [
       "{'key1': 'value1', 1: 'aman', 2.3: '45', 'key2': 'value2', 456: False}"
      ]
     },
     "execution_count": 10,
     "metadata": {},
     "output_type": "execute_result"
    }
   ],
   "source": [
    "dict1[456] = False\n",
    "dict1"
   ]
  },
  {
   "cell_type": "code",
   "execution_count": 11,
   "id": "occupied-graph",
   "metadata": {},
   "outputs": [
    {
     "data": {
      "text/plain": [
       "{'key1': 'value1', 1: 'aman', 2.3: '45', 'key2': 'new_value2', 456: False}"
      ]
     },
     "execution_count": 11,
     "metadata": {},
     "output_type": "execute_result"
    }
   ],
   "source": [
    "dict1[\"key2\"] = \"new_value2\"\n",
    "dict1"
   ]
  },
  {
   "cell_type": "markdown",
   "id": "gothic-crowd",
   "metadata": {},
   "source": [
    "### To remove a key-value pair from a dictionary we use the following syntax : \n",
    "### del dictionary_name[key]"
   ]
  },
  {
   "cell_type": "code",
   "execution_count": 16,
   "id": "ultimate-suffering",
   "metadata": {},
   "outputs": [
    {
     "data": {
      "text/plain": [
       "{'key1': 'value1', 1: 'aman', 2.3: '45'}"
      ]
     },
     "execution_count": 16,
     "metadata": {},
     "output_type": "execute_result"
    }
   ],
   "source": [
    "del dict1[\"key2\"]\n",
    "dict1"
   ]
  },
  {
   "cell_type": "code",
   "execution_count": 19,
   "id": "pharmaceutical-laptop",
   "metadata": {},
   "outputs": [],
   "source": [
    "list = \"aman\""
   ]
  },
  {
   "cell_type": "markdown",
   "id": "knowing-gambling",
   "metadata": {},
   "source": [
    "# Exercise : Read and execute the different operations and functions that are available with dictionary, list and string datatypes"
   ]
  },
  {
   "cell_type": "code",
   "execution_count": null,
   "id": "spiritual-stability",
   "metadata": {},
   "outputs": [],
   "source": []
  }
 ],
 "metadata": {
  "kernelspec": {
   "display_name": "Python 3",
   "language": "python",
   "name": "python3"
  },
  "language_info": {
   "codemirror_mode": {
    "name": "ipython",
    "version": 3
   },
   "file_extension": ".py",
   "mimetype": "text/x-python",
   "name": "python",
   "nbconvert_exporter": "python",
   "pygments_lexer": "ipython3",
   "version": "3.8.5"
  }
 },
 "nbformat": 4,
 "nbformat_minor": 5
}
