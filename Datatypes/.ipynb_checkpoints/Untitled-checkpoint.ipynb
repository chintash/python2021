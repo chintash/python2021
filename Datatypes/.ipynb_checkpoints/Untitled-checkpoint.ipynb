{
 "cells": [
  {
   "cell_type": "markdown",
   "id": "competitive-machine",
   "metadata": {},
   "source": [
    "# Memory Management"
   ]
  },
  {
   "cell_type": "code",
   "execution_count": 2,
   "id": "dressed-composer",
   "metadata": {},
   "outputs": [
    {
     "name": "stdout",
     "output_type": "stream",
     "text": [
      "None [1, 2, 3, 4, 5, 11]\n"
     ]
    }
   ],
   "source": [
    "list1 = [1,2,3,4,5]\n",
    "\n",
    "print(list1.append(11), list1)"
   ]
  },
  {
   "cell_type": "markdown",
   "id": "stable-brazil",
   "metadata": {},
   "source": [
    "### Some functions do not return a value. Instead these functions performs an operation and assigns the new value to the existing variable itself on which the function was applied. So in such cases if you pint such functions it will always return \"None\". for eg. : the append() function"
   ]
  },
  {
   "cell_type": "markdown",
   "id": "furnished-madonna",
   "metadata": {},
   "source": [
    "# Copy Function : \n",
    "\n",
    "### When we assign an existing list to a new list, and modify the new list the value of the exisiting list also changes. The reason behind this is that, when a new list is assigned the value of an existing list, a new memory block is not created for the newly declared list. Instead the memory block used by the original list is shared by both the lists. So any modification to the new list will modify the existing list and vice-versa"
   ]
  },
  {
   "cell_type": "code",
   "execution_count": 7,
   "id": "bizarre-patio",
   "metadata": {},
   "outputs": [],
   "source": [
    "list1 = [1,2,3,4,5]"
   ]
  },
  {
   "cell_type": "code",
   "execution_count": 9,
   "id": "empirical-nickname",
   "metadata": {},
   "outputs": [
    {
     "data": {
      "text/plain": [
       "[1, 2, 3, 4, 5]"
      ]
     },
     "execution_count": 9,
     "metadata": {},
     "output_type": "execute_result"
    }
   ],
   "source": [
    "list2 = list1\n",
    "list2"
   ]
  },
  {
   "cell_type": "code",
   "execution_count": 10,
   "id": "interpreted-istanbul",
   "metadata": {},
   "outputs": [
    {
     "data": {
      "text/plain": [
       "([1, 2, 3, 4, 5, 11], [1, 2, 3, 4, 5, 11])"
      ]
     },
     "execution_count": 10,
     "metadata": {},
     "output_type": "execute_result"
    }
   ],
   "source": [
    "list2.append(11)\n",
    "list2, list1"
   ]
  },
  {
   "cell_type": "markdown",
   "id": "gross-assist",
   "metadata": {},
   "source": [
    "### To avoid this unwanted modification of the original list, while assigning the value of an existing list to a new list we use the copy function. The copy function creates ands assigns a new memeory block for the newly declared variable. Thus no common memory block is shared by both the variables and thus mofication to either list does not affects the value of the other list."
   ]
  },
  {
   "cell_type": "code",
   "execution_count": 11,
   "id": "treated-symphony",
   "metadata": {},
   "outputs": [
    {
     "data": {
      "text/plain": [
       "[1, 2, 3, 4, 5, 11]"
      ]
     },
     "execution_count": 11,
     "metadata": {},
     "output_type": "execute_result"
    }
   ],
   "source": [
    "list3 = list2.copy()\n",
    "list3"
   ]
  },
  {
   "cell_type": "code",
   "execution_count": 12,
   "id": "chubby-confidence",
   "metadata": {},
   "outputs": [
    {
     "data": {
      "text/plain": [
       "([1, 2, 3, 4, 5, 11, 10000], [1, 2, 3, 4, 5, 11])"
      ]
     },
     "execution_count": 12,
     "metadata": {},
     "output_type": "execute_result"
    }
   ],
   "source": [
    "list3.append(10000)\n",
    "\n",
    "list3, list2"
   ]
  },
  {
   "cell_type": "markdown",
   "id": "opposed-cemetery",
   "metadata": {},
   "source": [
    "### Same behaviour of memory allocation and value assignment is used for the dictionary datatypes as well. So we use copy function with dictionaries as well to avoid such conflicts."
   ]
  },
  {
   "cell_type": "code",
   "execution_count": 26,
   "id": "sunset-subsection",
   "metadata": {},
   "outputs": [],
   "source": [
    "a = {1:2}"
   ]
  },
  {
   "cell_type": "code",
   "execution_count": 32,
   "id": "similar-philip",
   "metadata": {},
   "outputs": [
    {
     "data": {
      "text/plain": [
       "{1: 2}"
      ]
     },
     "execution_count": 32,
     "metadata": {},
     "output_type": "execute_result"
    }
   ],
   "source": [
    "b = a\n",
    "b"
   ]
  },
  {
   "cell_type": "code",
   "execution_count": 33,
   "id": "noble-mason",
   "metadata": {},
   "outputs": [],
   "source": [
    "b[5] = 6"
   ]
  },
  {
   "cell_type": "code",
   "execution_count": 34,
   "id": "obvious-serve",
   "metadata": {},
   "outputs": [
    {
     "data": {
      "text/plain": [
       "({1: 2, 5: 6}, {1: 2, 5: 6})"
      ]
     },
     "execution_count": 34,
     "metadata": {},
     "output_type": "execute_result"
    }
   ],
   "source": [
    "b, a"
   ]
  },
  {
   "cell_type": "markdown",
   "id": "generic-tolerance",
   "metadata": {},
   "source": [
    "### Using copy function"
   ]
  },
  {
   "cell_type": "code",
   "execution_count": 36,
   "id": "satellite-limitation",
   "metadata": {},
   "outputs": [],
   "source": [
    "a = {1:2}"
   ]
  },
  {
   "cell_type": "code",
   "execution_count": 37,
   "id": "administrative-september",
   "metadata": {},
   "outputs": [
    {
     "data": {
      "text/plain": [
       "{1: 2}"
      ]
     },
     "execution_count": 37,
     "metadata": {},
     "output_type": "execute_result"
    }
   ],
   "source": [
    "b = a\n",
    "b"
   ]
  },
  {
   "cell_type": "code",
   "execution_count": 27,
   "id": "streaming-literature",
   "metadata": {},
   "outputs": [
    {
     "data": {
      "text/plain": [
       "{1: 2}"
      ]
     },
     "execution_count": 27,
     "metadata": {},
     "output_type": "execute_result"
    }
   ],
   "source": [
    "b = a.copy()\n",
    "b"
   ]
  },
  {
   "cell_type": "code",
   "execution_count": 39,
   "id": "announced-bangladesh",
   "metadata": {},
   "outputs": [],
   "source": [
    "b[5] = 6\n"
   ]
  },
  {
   "cell_type": "code",
   "execution_count": 29,
   "id": "indian-receipt",
   "metadata": {},
   "outputs": [
    {
     "data": {
      "text/plain": [
       "({1: 2, 5: 6}, {1: 2})"
      ]
     },
     "execution_count": 29,
     "metadata": {},
     "output_type": "execute_result"
    }
   ],
   "source": [
    "b,a"
   ]
  }
 ],
 "metadata": {
  "kernelspec": {
   "display_name": "Python 3",
   "language": "python",
   "name": "python3"
  },
  "language_info": {
   "codemirror_mode": {
    "name": "ipython",
    "version": 3
   },
   "file_extension": ".py",
   "mimetype": "text/x-python",
   "name": "python",
   "nbconvert_exporter": "python",
   "pygments_lexer": "ipython3",
   "version": "3.8.5"
  }
 },
 "nbformat": 4,
 "nbformat_minor": 5
}
