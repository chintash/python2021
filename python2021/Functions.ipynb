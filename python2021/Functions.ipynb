{
 "cells": [
  {
   "cell_type": "code",
   "execution_count": 7,
   "metadata": {
    "collapsed": true
   },
   "outputs": [],
   "source": [
    "def evenodd():    \n",
    "    n = int(input())\n",
    "    if n%2 == 0:\n",
    "        return n, \" is an even number\"\n",
    "    else:\n",
    "        return str(n) + \" is an odd number\""
   ]
  },
  {
   "cell_type": "code",
   "execution_count": 8,
   "metadata": {},
   "outputs": [
    {
     "name": "stdout",
     "output_type": "stream",
     "text": [
      "8\n",
      "(8, ' is an even number')\n"
     ]
    }
   ],
   "source": [
    "print(evenodd())"
   ]
  },
  {
   "cell_type": "markdown",
   "metadata": {},
   "source": [
    "# Scope of a function"
   ]
  },
  {
   "cell_type": "code",
   "execution_count": 34,
   "metadata": {},
   "outputs": [
    {
     "name": "stdout",
     "output_type": "stream",
     "text": [
      "10\n"
     ]
    },
    {
     "ename": "NameError",
     "evalue": "name 'j' is not defined",
     "output_type": "error",
     "traceback": [
      "\u001b[0;31m---------------------------------------------------------------------------\u001b[0m",
      "\u001b[0;31mNameError\u001b[0m                                 Traceback (most recent call last)",
      "\u001b[0;32m<ipython-input-34-3b5539275e55>\u001b[0m in \u001b[0;36m<module>\u001b[0;34m\u001b[0m\n\u001b[1;32m      4\u001b[0m \u001b[0;34m\u001b[0m\u001b[0m\n\u001b[1;32m      5\u001b[0m \u001b[0mfunc1\u001b[0m\u001b[0;34m(\u001b[0m\u001b[0;34m)\u001b[0m\u001b[0;34m\u001b[0m\u001b[0;34m\u001b[0m\u001b[0m\n\u001b[0;32m----> 6\u001b[0;31m \u001b[0mprint\u001b[0m\u001b[0;34m(\u001b[0m\u001b[0mj\u001b[0m\u001b[0;34m)\u001b[0m\u001b[0;34m\u001b[0m\u001b[0;34m\u001b[0m\u001b[0m\n\u001b[0m\u001b[1;32m      7\u001b[0m \u001b[0;32mdel\u001b[0m \u001b[0mj\u001b[0m\u001b[0;34m\u001b[0m\u001b[0;34m\u001b[0m\u001b[0m\n",
      "\u001b[0;31mNameError\u001b[0m: name 'j' is not defined"
     ]
    }
   ],
   "source": [
    "def func1():\n",
    "    j = 10\n",
    "    print(j)\n",
    "    \n",
    "func1()\n",
    "print(j)"
   ]
  },
  {
   "cell_type": "code",
   "execution_count": 36,
   "metadata": {},
   "outputs": [
    {
     "name": "stdout",
     "output_type": "stream",
     "text": [
      "10\n",
      "5\n"
     ]
    }
   ],
   "source": [
    "j = 5 # scope not applicable inside the function\n",
    "\n",
    "def func1():\n",
    "    j = 10 # scope not applicable outside the function\n",
    "    print(j)\n",
    "    \n",
    "func1()\n",
    "print(j)"
   ]
  },
  {
   "cell_type": "code",
   "execution_count": 38,
   "metadata": {},
   "outputs": [
    {
     "name": "stdout",
     "output_type": "stream",
     "text": [
      "5\n",
      "5\n"
     ]
    }
   ],
   "source": [
    "# Global scope\n",
    "\n",
    "j = 5\n",
    "def func1():\n",
    "    global j\n",
    "    print(j)\n",
    "\n",
    "func1()    \n",
    "print(j)"
   ]
  },
  {
   "cell_type": "code",
   "execution_count": 40,
   "metadata": {},
   "outputs": [
    {
     "name": "stdout",
     "output_type": "stream",
     "text": [
      "10\n",
      "10\n"
     ]
    }
   ],
   "source": [
    "# Global scope\n",
    "\n",
    "j = 5\n",
    "def func1():\n",
    "    global j\n",
    "    j = 10\n",
    "    print(j)\n",
    "\n",
    "func1()    \n",
    "print(j)"
   ]
  },
  {
   "cell_type": "code",
   "execution_count": null,
   "metadata": {
    "collapsed": true
   },
   "outputs": [],
   "source": []
  },
  {
   "cell_type": "markdown",
   "metadata": {},
   "source": [
    "# Types of Parameters\n",
    "\n",
    "## 1. Positional Parameter"
   ]
  },
  {
   "cell_type": "code",
   "execution_count": 11,
   "metadata": {},
   "outputs": [
    {
     "name": "stdout",
     "output_type": "stream",
     "text": [
      "20 10\n"
     ]
    }
   ],
   "source": [
    "def evenodd(x, y):\n",
    "    print(x, y)\n",
    "\n",
    "\n",
    "a = 10\n",
    "b = 20\n",
    "evenodd(b, a)\n"
   ]
  },
  {
   "cell_type": "markdown",
   "metadata": {},
   "source": [
    "## 2. Keyword Arguments/Parameters"
   ]
  },
  {
   "cell_type": "code",
   "execution_count": 17,
   "metadata": {},
   "outputs": [
    {
     "name": "stdout",
     "output_type": "stream",
     "text": [
      "30 120\n"
     ]
    }
   ],
   "source": [
    "def evenodd(a, b):\n",
    "    print(a, b)\n",
    "\n",
    "\n",
    "# a = 10\n",
    "# b = 20\n",
    "evenodd(b=120, a = 30)\n"
   ]
  },
  {
   "cell_type": "markdown",
   "metadata": {},
   "source": [
    "## 3. Default value of an argument"
   ]
  },
  {
   "cell_type": "code",
   "execution_count": 25,
   "metadata": {},
   "outputs": [
    {
     "name": "stdout",
     "output_type": "stream",
     "text": [
      "30 20 10\n"
     ]
    }
   ],
   "source": [
    "def evenodd(a,c, b = 10):\n",
    "    print(a,c, b)\n",
    "\n",
    "\n",
    "# a = 10\n",
    "# b = 20\n",
    "evenodd(30, 20)\n"
   ]
  },
  {
   "cell_type": "markdown",
   "metadata": {},
   "source": [
    "# Ways of Parameter Passing"
   ]
  },
  {
   "cell_type": "markdown",
   "metadata": {},
   "source": [
    "## 1. Pass by Value"
   ]
  },
  {
   "cell_type": "code",
   "execution_count": 41,
   "metadata": {},
   "outputs": [
    {
     "name": "stdout",
     "output_type": "stream",
     "text": [
      " Inside Function : 20 30\n",
      " Outside Function : 10 20\n"
     ]
    }
   ],
   "source": [
    "def evenodd(a,b):    \n",
    "    a+= 10\n",
    "    b+= 10\n",
    "    print(\" Inside Function :\" ,a,b)\n",
    "\n",
    "\n",
    "# a = 10, memory_address    \n",
    "a = 10\n",
    "b = 20\n",
    "evenodd(a, b)\n",
    "print(\" Outside Function :\" ,a, b)"
   ]
  },
  {
   "cell_type": "markdown",
   "metadata": {},
   "source": [
    "## 2. Pass by reference"
   ]
  },
  {
   "cell_type": "code",
   "execution_count": 42,
   "metadata": {},
   "outputs": [
    {
     "name": "stdout",
     "output_type": "stream",
     "text": [
      " Inside Function : [1, 2, 3, 4]\n",
      " Outside Function : [1, 2, 3, 4]\n"
     ]
    }
   ],
   "source": [
    "def evenodd(a): # memory_address is sent\n",
    "    a.append(4)\n",
    "    print(\" Inside Function :\" ,a)\n",
    "\n",
    "# a = [1,2,3], memory_address\n",
    "a = [1,2,3]\n",
    "evenodd(a)\n",
    "print(\" Outside Function :\" ,a)"
   ]
  },
  {
   "cell_type": "code",
   "execution_count": null,
   "metadata": {
    "collapsed": true
   },
   "outputs": [],
   "source": [
    "MADAM, SOS, MOM, abcdcba, "
   ]
  },
  {
   "cell_type": "code",
   "execution_count": null,
   "metadata": {
    "collapsed": true
   },
   "outputs": [],
   "source": [
    "Problem Statement : Check whether a given string is pallindrome or not"
   ]
  },
  {
   "cell_type": "code",
   "execution_count": null,
   "metadata": {
    "collapsed": true
   },
   "outputs": [],
   "source": [
    "Input:\n",
    "4\n",
    "MADAM\n",
    "SOS\n",
    "Shiva\n",
    "abcdcba"
   ]
  },
  {
   "cell_type": "code",
   "execution_count": null,
   "metadata": {
    "collapsed": true
   },
   "outputs": [],
   "source": [
    "Output:\n",
    "Pallindrome\n",
    "Pallindrome\n",
    "Not a Pallindrome\n",
    "Pallindrome"
   ]
  },
  {
   "cell_type": "code",
   "execution_count": null,
   "metadata": {
    "collapsed": true
   },
   "outputs": [],
   "source": [
    "https://www.codechef.com/problems/FLOW011"
   ]
  }
 ],
 "metadata": {
  "kernelspec": {
   "display_name": "Python 3",
   "language": "python",
   "name": "python3"
  },
  "language_info": {
   "codemirror_mode": {
    "name": "ipython",
    "version": 3
   },
   "file_extension": ".py",
   "mimetype": "text/x-python",
   "name": "python",
   "nbconvert_exporter": "python",
   "pygments_lexer": "ipython3",
   "version": "3.6.1"
  }
 },
 "nbformat": 4,
 "nbformat_minor": 4
}
