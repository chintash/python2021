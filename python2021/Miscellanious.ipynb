{
 "cells": [
  {
   "cell_type": "markdown",
   "metadata": {},
   "source": [
    "### 1. Cannot use Append Function with any datatype except list"
   ]
  },
  {
   "cell_type": "code",
   "execution_count": 3,
   "metadata": {},
   "outputs": [
    {
     "data": {
      "text/plain": [
       "'shiva'"
      ]
     },
     "execution_count": 3,
     "metadata": {},
     "output_type": "execute_result"
    }
   ],
   "source": [
    "name = \"shiva\"\n",
    "#       01234\n",
    "# name = name + \" prasad\"\n",
    "name"
   ]
  },
  {
   "cell_type": "code",
   "execution_count": 2,
   "metadata": {},
   "outputs": [
    {
     "ename": "NameError",
     "evalue": "name 'name' is not defined",
     "output_type": "error",
     "traceback": [
      "\u001b[0;31m---------------------------------------------------------------------------\u001b[0m",
      "\u001b[0;31mNameError\u001b[0m                                 Traceback (most recent call last)",
      "\u001b[0;32m<ipython-input-2-9bc0cb2ed6de>\u001b[0m in \u001b[0;36m<module>\u001b[0;34m\u001b[0m\n\u001b[0;32m----> 1\u001b[0;31m \u001b[0mname\u001b[0m\u001b[0;34m\u001b[0m\u001b[0;34m\u001b[0m\u001b[0m\n\u001b[0m",
      "\u001b[0;31mNameError\u001b[0m: name 'name' is not defined"
     ]
    }
   ],
   "source": [
    "name"
   ]
  },
  {
   "cell_type": "markdown",
   "metadata": {},
   "source": [
    "# Primary Data Types"
   ]
  },
  {
   "cell_type": "code",
   "execution_count": 10,
   "metadata": {
    "collapsed": true
   },
   "outputs": [],
   "source": [
    "# String Variables\n",
    "name = \"shiva\"\n",
    "\n",
    "# Integer\n",
    "a = 123\n",
    "\n",
    "# Boolean\n",
    "val = True"
   ]
  },
  {
   "cell_type": "markdown",
   "metadata": {},
   "source": [
    "# Collections or Secondary Data Types\n"
   ]
  },
  {
   "cell_type": "code",
   "execution_count": 7,
   "metadata": {
    "collapsed": true
   },
   "outputs": [],
   "source": [
    "# String Variables\n",
    "name = \"shiva\"\n",
    "\n",
    "## Lists\n",
    "\n",
    "list_val = [1, 2, 3, 4]\n",
    "\n",
    "list_val2 = [1, 2, (3, 4), [5, 6], {\"Name\" : \"Shiva\"}]\n",
    "\n",
    "\n",
    "## Tuples\n",
    "\n",
    "tuples_val1 = (1, 2, 3, 4)\n",
    "tuples_val2 = 1, 2, 3, 4\n",
    "tuples_val3 = (1, 2, [3, 4], (5, 6), {\"Name\" : \"Shiva\"})\n",
    "\n",
    "\n",
    "## Dictionaries\n",
    "dict_val = {\"Name\" : \"Shiva\", \"Lname\" : \"Prasad\"}\n",
    "dict_val1 = {\"Name\" : \"Shiva\", \"key2\" : (5, 6), \"key3\" : [1,2]}\n"
   ]
  },
  {
   "cell_type": "code",
   "execution_count": 9,
   "metadata": {},
   "outputs": [
    {
     "name": "stdout",
     "output_type": "stream",
     "text": [
      "[1, 2, 3, 10, 5]\n"
     ]
    }
   ],
   "source": [
    "list1 = [1, 2, 3, 4, 5]\n",
    "#        0  1  2  3, 4\n",
    "\n",
    "\n",
    "list1[3] = 10\n",
    "print(list1)"
   ]
  },
  {
   "cell_type": "code",
   "execution_count": 14,
   "metadata": {},
   "outputs": [
    {
     "data": {
      "text/plain": [
       "(1, 2, 3, 4)"
      ]
     },
     "execution_count": 14,
     "metadata": {},
     "output_type": "execute_result"
    }
   ],
   "source": [
    "tuple1 = (1, 2, 3, 4)\n",
    "tuple1"
   ]
  },
  {
   "cell_type": "markdown",
   "metadata": {},
   "source": [
    "### The  main difference between a list and a tuple is that the list once initiaized can be modified i.e. \n",
    "### an element can be added to the list irrespective of the position in the list, but we cannnot modify or add \n",
    "### an element to a tuple once it is initialized"
   ]
  },
  {
   "cell_type": "markdown",
   "metadata": {},
   "source": [
    "# Day 2 - Python Tr"
   ]
  },
  {
   "cell_type": "code",
   "execution_count": 12,
   "metadata": {},
   "outputs": [
    {
     "data": {
      "text/plain": [
       "{'key': 'value', 1: False, 1.22: 232, (1, 2): 343}"
      ]
     },
     "execution_count": 12,
     "metadata": {},
     "output_type": "execute_result"
    }
   ],
   "source": [
    "sample_dict = {\"key\" : \"value\",\n",
    "                 1   : 1234,\n",
    "                 1.22: 232,\n",
    "                True : False,\n",
    "                (1,2): 343\n",
    "              }\n",
    "sample_dict"
   ]
  },
  {
   "cell_type": "markdown",
   "metadata": {},
   "source": [
    "### Immutable Data types : Strings, Integers, Boolean, Floats, and Tuples\n",
    "### Mutable Data types   : Lists, Dictionary\n",
    "### Only Immutable Datatypes can be used as keys for a dictionary\n",
    "### Indexes : Index values can only be used with Strings, Lists and Tuples\n",
    "### Index number starts from 0 to n-1 i.e. if there are n =5 elements in a list, then the last index value\n",
    "### will be 4 i.e. n-1 = 5-1  = 4\n"
   ]
  },
  {
   "cell_type": "code",
   "execution_count": 6,
   "metadata": {
    "collapsed": true
   },
   "outputs": [],
   "source": [
    "# Rules for Declaring a variable\n",
    "\n",
    "# It can contain numbers and lowercase and uppercase characters\n",
    "# It can consists of '_' and no other special character i.e. first_name is ok but first$name will throw error\n",
    "# The variable should not begin with a number i.e. val1 is correct but 1val is not\n",
    "name = \"aman\"\n"
   ]
  }
 ],
 "metadata": {
  "kernelspec": {
   "display_name": "Python 3",
   "language": "python",
   "name": "python3"
  },
  "language_info": {
   "codemirror_mode": {
    "name": "ipython",
    "version": 3
   },
   "file_extension": ".py",
   "mimetype": "text/x-python",
   "name": "python",
   "nbconvert_exporter": "python",
   "pygments_lexer": "ipython3",
   "version": "3.6.1"
  }
 },
 "nbformat": 4,
 "nbformat_minor": 5
}
